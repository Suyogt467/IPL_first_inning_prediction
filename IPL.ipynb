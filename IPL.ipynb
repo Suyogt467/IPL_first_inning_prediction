{
 "cells": [
  {
   "cell_type": "code",
   "execution_count": 1,
   "id": "1d8bdff4",
   "metadata": {},
   "outputs": [],
   "source": [
    "import pandas as pd\n",
    "import numpy as np\n"
   ]
  },
  {
   "cell_type": "code",
   "execution_count": 2,
   "id": "3182c695",
   "metadata": {},
   "outputs": [],
   "source": [
    "df1 = pd.read_csv(\"C:\\\\Users\\\\ADMIN\\\\2008 - 2022.csv\")\n",
    "df2 = pd.read_csv(\"C:\\\\Users\\\\ADMIN\\\\2023.csv\")"
   ]
  },
  {
   "cell_type": "code",
   "execution_count": 3,
   "id": "28d12d09",
   "metadata": {},
   "outputs": [
    {
     "data": {
      "text/html": [
       "<div>\n",
       "<style scoped>\n",
       "    .dataframe tbody tr th:only-of-type {\n",
       "        vertical-align: middle;\n",
       "    }\n",
       "\n",
       "    .dataframe tbody tr th {\n",
       "        vertical-align: top;\n",
       "    }\n",
       "\n",
       "    .dataframe thead th {\n",
       "        text-align: right;\n",
       "    }\n",
       "</style>\n",
       "<table border=\"1\" class=\"dataframe\">\n",
       "  <thead>\n",
       "    <tr style=\"text-align: right;\">\n",
       "      <th></th>\n",
       "      <th>match_no</th>\n",
       "      <th>score_x</th>\n",
       "      <th>city</th>\n",
       "      <th>ballnumber</th>\n",
       "      <th>over</th>\n",
       "      <th>outcome</th>\n",
       "      <th>batter</th>\n",
       "      <th>bowler</th>\n",
       "      <th>score_y</th>\n",
       "      <th>t1</th>\n",
       "      <th>...</th>\n",
       "      <th>batting</th>\n",
       "      <th>bowling</th>\n",
       "      <th>over_no</th>\n",
       "      <th>ball_no</th>\n",
       "      <th>ball_count</th>\n",
       "      <th>current_score</th>\n",
       "      <th>current_runrate</th>\n",
       "      <th>player_dismissed</th>\n",
       "      <th>wickets_left</th>\n",
       "      <th>last_five</th>\n",
       "    </tr>\n",
       "  </thead>\n",
       "  <tbody>\n",
       "    <tr>\n",
       "      <th>0</th>\n",
       "      <td>1</td>\n",
       "      <td>178</td>\n",
       "      <td>Ahmedabad</td>\n",
       "      <td>30</td>\n",
       "      <td>4.5</td>\n",
       "      <td>4</td>\n",
       "      <td>Moeen Ali</td>\n",
       "      <td>Mohammed Shami</td>\n",
       "      <td>4</td>\n",
       "      <td>Gujarat Titans</td>\n",
       "      <td>...</td>\n",
       "      <td>['Chennai Super Kings']</td>\n",
       "      <td>Gujarat Titans</td>\n",
       "      <td>4</td>\n",
       "      <td>5</td>\n",
       "      <td>29</td>\n",
       "      <td>45</td>\n",
       "      <td>9.310345</td>\n",
       "      <td>1</td>\n",
       "      <td>9</td>\n",
       "      <td>45.0</td>\n",
       "    </tr>\n",
       "    <tr>\n",
       "      <th>1</th>\n",
       "      <td>1</td>\n",
       "      <td>178</td>\n",
       "      <td>Ahmedabad</td>\n",
       "      <td>31</td>\n",
       "      <td>4.6</td>\n",
       "      <td>1</td>\n",
       "      <td>Moeen Ali</td>\n",
       "      <td>Mohammed Shami</td>\n",
       "      <td>1</td>\n",
       "      <td>Gujarat Titans</td>\n",
       "      <td>...</td>\n",
       "      <td>['Chennai Super Kings']</td>\n",
       "      <td>Gujarat Titans</td>\n",
       "      <td>4</td>\n",
       "      <td>6</td>\n",
       "      <td>30</td>\n",
       "      <td>46</td>\n",
       "      <td>9.200000</td>\n",
       "      <td>1</td>\n",
       "      <td>9</td>\n",
       "      <td>46.0</td>\n",
       "    </tr>\n",
       "  </tbody>\n",
       "</table>\n",
       "<p>2 rows × 21 columns</p>\n",
       "</div>"
      ],
      "text/plain": [
       "   match_no  score_x       city  ballnumber  over outcome     batter  \\\n",
       "0         1      178  Ahmedabad          30   4.5       4  Moeen Ali   \n",
       "1         1      178  Ahmedabad          31   4.6       1  Moeen Ali   \n",
       "\n",
       "           bowler  score_y              t1  ...                  batting  \\\n",
       "0  Mohammed Shami        4  Gujarat Titans  ...  ['Chennai Super Kings']   \n",
       "1  Mohammed Shami        1  Gujarat Titans  ...  ['Chennai Super Kings']   \n",
       "\n",
       "          bowling over_no  ball_no  ball_count  current_score  \\\n",
       "0  Gujarat Titans       4        5          29             45   \n",
       "1  Gujarat Titans       4        6          30             46   \n",
       "\n",
       "   current_runrate  player_dismissed  wickets_left  last_five  \n",
       "0         9.310345                 1             9       45.0  \n",
       "1         9.200000                 1             9       46.0  \n",
       "\n",
       "[2 rows x 21 columns]"
      ]
     },
     "execution_count": 3,
     "metadata": {},
     "output_type": "execute_result"
    }
   ],
   "source": [
    "df2.head(2)"
   ]
  },
  {
   "cell_type": "code",
   "execution_count": 4,
   "id": "c82c1be7",
   "metadata": {},
   "outputs": [],
   "source": [
    "df2['balls_left'] = 120 - df2['ball_count']\n",
    "df2['balls_left'] = df2['balls_left'].apply(lambda x:0 if x<0 else x)"
   ]
  },
  {
   "cell_type": "code",
   "execution_count": 5,
   "id": "b2d10249",
   "metadata": {},
   "outputs": [],
   "source": [
    "df2 = df2.rename(columns={'batting':'batting_team','bowling':'bowling_team','score_x':'runs_x','balls_left':'ball_left'})"
   ]
  },
  {
   "cell_type": "code",
   "execution_count": 6,
   "id": "1d650ad7",
   "metadata": {},
   "outputs": [],
   "source": [
    "df2 =df2[['match_no','batting_team','bowling_team','city','current_score','ball_left','wickets_left','current_runrate','last_five','runs_x']]"
   ]
  },
  {
   "cell_type": "code",
   "execution_count": 7,
   "id": "0d66e578",
   "metadata": {},
   "outputs": [
    {
     "data": {
      "text/html": [
       "<div>\n",
       "<style scoped>\n",
       "    .dataframe tbody tr th:only-of-type {\n",
       "        vertical-align: middle;\n",
       "    }\n",
       "\n",
       "    .dataframe tbody tr th {\n",
       "        vertical-align: top;\n",
       "    }\n",
       "\n",
       "    .dataframe thead th {\n",
       "        text-align: right;\n",
       "    }\n",
       "</style>\n",
       "<table border=\"1\" class=\"dataframe\">\n",
       "  <thead>\n",
       "    <tr style=\"text-align: right;\">\n",
       "      <th></th>\n",
       "      <th>ID</th>\n",
       "      <th>total_run_x</th>\n",
       "      <th>index</th>\n",
       "      <th>overs</th>\n",
       "      <th>ballnumber</th>\n",
       "      <th>extra_type</th>\n",
       "      <th>total_run_y</th>\n",
       "      <th>BattingTeam</th>\n",
       "      <th>city</th>\n",
       "      <th>team1</th>\n",
       "      <th>...</th>\n",
       "      <th>outcome</th>\n",
       "      <th>BowlingTeam</th>\n",
       "      <th>player_dismissed</th>\n",
       "      <th>wickets_left</th>\n",
       "      <th>ball_bowled</th>\n",
       "      <th>total_ball_bowled</th>\n",
       "      <th>balls_left</th>\n",
       "      <th>current_score</th>\n",
       "      <th>current_runrate</th>\n",
       "      <th>last_five_over_runs</th>\n",
       "    </tr>\n",
       "  </thead>\n",
       "  <tbody>\n",
       "    <tr>\n",
       "      <th>0</th>\n",
       "      <td>335982</td>\n",
       "      <td>222</td>\n",
       "      <td>225729</td>\n",
       "      <td>0</td>\n",
       "      <td>1</td>\n",
       "      <td>legbyes</td>\n",
       "      <td>1</td>\n",
       "      <td>Kolkata Knight Riders</td>\n",
       "      <td>Bangalore</td>\n",
       "      <td>Royal Challengers Bangalore</td>\n",
       "      <td>...</td>\n",
       "      <td>NaN</td>\n",
       "      <td>Royal Challengers Bangalore</td>\n",
       "      <td>0</td>\n",
       "      <td>10</td>\n",
       "      <td>1</td>\n",
       "      <td>1</td>\n",
       "      <td>119</td>\n",
       "      <td>1</td>\n",
       "      <td>6.0</td>\n",
       "      <td>NaN</td>\n",
       "    </tr>\n",
       "  </tbody>\n",
       "</table>\n",
       "<p>1 rows × 21 columns</p>\n",
       "</div>"
      ],
      "text/plain": [
       "       ID  total_run_x   index  overs  ballnumber extra_type  total_run_y  \\\n",
       "0  335982          222  225729      0           1    legbyes            1   \n",
       "\n",
       "             BattingTeam       city                        team1  ... outcome  \\\n",
       "0  Kolkata Knight Riders  Bangalore  Royal Challengers Bangalore  ...     NaN   \n",
       "\n",
       "                   BowlingTeam player_dismissed  wickets_left  ball_bowled  \\\n",
       "0  Royal Challengers Bangalore                0            10            1   \n",
       "\n",
       "   total_ball_bowled  balls_left  current_score  current_runrate  \\\n",
       "0                  1         119              1              6.0   \n",
       "\n",
       "   last_five_over_runs  \n",
       "0                  NaN  \n",
       "\n",
       "[1 rows x 21 columns]"
      ]
     },
     "execution_count": 7,
     "metadata": {},
     "output_type": "execute_result"
    }
   ],
   "source": [
    "df1.head(1)"
   ]
  },
  {
   "cell_type": "code",
   "execution_count": 8,
   "id": "082d3567",
   "metadata": {},
   "outputs": [],
   "source": [
    "df1 = df1.rename(columns={'ID':'match_no','BattingTeam':'batting_team','BowlingTeam':'bowling_team','last_five_over_runs':'last_five','total_run_x':'runs_x','balls_left':'ball_left'})"
   ]
  },
  {
   "cell_type": "code",
   "execution_count": 9,
   "id": "53557255",
   "metadata": {},
   "outputs": [],
   "source": [
    "df1=df1[['match_no','batting_team','bowling_team','city','current_score','ball_left','wickets_left','current_runrate','last_five','runs_x']]"
   ]
  },
  {
   "cell_type": "code",
   "execution_count": 10,
   "id": "a6d02504",
   "metadata": {},
   "outputs": [],
   "source": [
    " # Mergin the dataset\n",
    "final_df = pd.concat([df1, df2], ignore_index=True)\n"
   ]
  },
  {
   "cell_type": "code",
   "execution_count": 11,
   "id": "c60157e5",
   "metadata": {},
   "outputs": [],
   "source": [
    "final_df.dropna(inplace=True)"
   ]
  },
  {
   "cell_type": "code",
   "execution_count": 12,
   "id": "d6798ae2",
   "metadata": {},
   "outputs": [
    {
     "data": {
      "text/html": [
       "<div>\n",
       "<style scoped>\n",
       "    .dataframe tbody tr th:only-of-type {\n",
       "        vertical-align: middle;\n",
       "    }\n",
       "\n",
       "    .dataframe tbody tr th {\n",
       "        vertical-align: top;\n",
       "    }\n",
       "\n",
       "    .dataframe thead th {\n",
       "        text-align: right;\n",
       "    }\n",
       "</style>\n",
       "<table border=\"1\" class=\"dataframe\">\n",
       "  <thead>\n",
       "    <tr style=\"text-align: right;\">\n",
       "      <th></th>\n",
       "      <th>match_no</th>\n",
       "      <th>batting_team</th>\n",
       "      <th>bowling_team</th>\n",
       "      <th>city</th>\n",
       "      <th>current_score</th>\n",
       "      <th>ball_left</th>\n",
       "      <th>wickets_left</th>\n",
       "      <th>current_runrate</th>\n",
       "      <th>last_five</th>\n",
       "      <th>runs_x</th>\n",
       "    </tr>\n",
       "  </thead>\n",
       "  <tbody>\n",
       "    <tr>\n",
       "      <th>29</th>\n",
       "      <td>335982</td>\n",
       "      <td>Kolkata Knight Riders</td>\n",
       "      <td>Royal Challengers Bangalore</td>\n",
       "      <td>Bangalore</td>\n",
       "      <td>59</td>\n",
       "      <td>92</td>\n",
       "      <td>10</td>\n",
       "      <td>12.642857</td>\n",
       "      <td>59.0</td>\n",
       "      <td>222</td>\n",
       "    </tr>\n",
       "    <tr>\n",
       "      <th>30</th>\n",
       "      <td>335982</td>\n",
       "      <td>Kolkata Knight Riders</td>\n",
       "      <td>Royal Challengers Bangalore</td>\n",
       "      <td>Bangalore</td>\n",
       "      <td>60</td>\n",
       "      <td>91</td>\n",
       "      <td>10</td>\n",
       "      <td>12.413793</td>\n",
       "      <td>59.0</td>\n",
       "      <td>222</td>\n",
       "    </tr>\n",
       "    <tr>\n",
       "      <th>31</th>\n",
       "      <td>335982</td>\n",
       "      <td>Kolkata Knight Riders</td>\n",
       "      <td>Royal Challengers Bangalore</td>\n",
       "      <td>Bangalore</td>\n",
       "      <td>60</td>\n",
       "      <td>90</td>\n",
       "      <td>10</td>\n",
       "      <td>12.000000</td>\n",
       "      <td>59.0</td>\n",
       "      <td>222</td>\n",
       "    </tr>\n",
       "    <tr>\n",
       "      <th>32</th>\n",
       "      <td>335982</td>\n",
       "      <td>Kolkata Knight Riders</td>\n",
       "      <td>Royal Challengers Bangalore</td>\n",
       "      <td>Bangalore</td>\n",
       "      <td>61</td>\n",
       "      <td>89</td>\n",
       "      <td>10</td>\n",
       "      <td>11.806452</td>\n",
       "      <td>59.0</td>\n",
       "      <td>222</td>\n",
       "    </tr>\n",
       "    <tr>\n",
       "      <th>33</th>\n",
       "      <td>335982</td>\n",
       "      <td>Kolkata Knight Riders</td>\n",
       "      <td>Royal Challengers Bangalore</td>\n",
       "      <td>Bangalore</td>\n",
       "      <td>61</td>\n",
       "      <td>88</td>\n",
       "      <td>9</td>\n",
       "      <td>11.437500</td>\n",
       "      <td>59.0</td>\n",
       "      <td>222</td>\n",
       "    </tr>\n",
       "    <tr>\n",
       "      <th>...</th>\n",
       "      <td>...</td>\n",
       "      <td>...</td>\n",
       "      <td>...</td>\n",
       "      <td>...</td>\n",
       "      <td>...</td>\n",
       "      <td>...</td>\n",
       "      <td>...</td>\n",
       "      <td>...</td>\n",
       "      <td>...</td>\n",
       "      <td>...</td>\n",
       "    </tr>\n",
       "    <tr>\n",
       "      <th>96065</th>\n",
       "      <td>74</td>\n",
       "      <td>['Gujarat Titans']</td>\n",
       "      <td>Chennai Super Kings</td>\n",
       "      <td>Ahmedabad</td>\n",
       "      <td>209</td>\n",
       "      <td>4</td>\n",
       "      <td>8</td>\n",
       "      <td>10.810345</td>\n",
       "      <td>81.0</td>\n",
       "      <td>211</td>\n",
       "    </tr>\n",
       "    <tr>\n",
       "      <th>96066</th>\n",
       "      <td>74</td>\n",
       "      <td>['Gujarat Titans']</td>\n",
       "      <td>Chennai Super Kings</td>\n",
       "      <td>Ahmedabad</td>\n",
       "      <td>209</td>\n",
       "      <td>3</td>\n",
       "      <td>7</td>\n",
       "      <td>10.717949</td>\n",
       "      <td>75.0</td>\n",
       "      <td>211</td>\n",
       "    </tr>\n",
       "    <tr>\n",
       "      <th>96067</th>\n",
       "      <td>74</td>\n",
       "      <td>['Gujarat Titans']</td>\n",
       "      <td>Chennai Super Kings</td>\n",
       "      <td>Ahmedabad</td>\n",
       "      <td>210</td>\n",
       "      <td>2</td>\n",
       "      <td>7</td>\n",
       "      <td>10.677966</td>\n",
       "      <td>76.0</td>\n",
       "      <td>211</td>\n",
       "    </tr>\n",
       "    <tr>\n",
       "      <th>96068</th>\n",
       "      <td>74</td>\n",
       "      <td>['Gujarat Titans']</td>\n",
       "      <td>Chennai Super Kings</td>\n",
       "      <td>Ahmedabad</td>\n",
       "      <td>211</td>\n",
       "      <td>1</td>\n",
       "      <td>7</td>\n",
       "      <td>10.638655</td>\n",
       "      <td>71.0</td>\n",
       "      <td>211</td>\n",
       "    </tr>\n",
       "    <tr>\n",
       "      <th>96069</th>\n",
       "      <td>74</td>\n",
       "      <td>['Gujarat Titans']</td>\n",
       "      <td>Chennai Super Kings</td>\n",
       "      <td>Ahmedabad</td>\n",
       "      <td>211</td>\n",
       "      <td>0</td>\n",
       "      <td>6</td>\n",
       "      <td>10.550000</td>\n",
       "      <td>71.0</td>\n",
       "      <td>211</td>\n",
       "    </tr>\n",
       "  </tbody>\n",
       "</table>\n",
       "<p>75103 rows × 10 columns</p>\n",
       "</div>"
      ],
      "text/plain": [
       "       match_no           batting_team                 bowling_team  \\\n",
       "29       335982  Kolkata Knight Riders  Royal Challengers Bangalore   \n",
       "30       335982  Kolkata Knight Riders  Royal Challengers Bangalore   \n",
       "31       335982  Kolkata Knight Riders  Royal Challengers Bangalore   \n",
       "32       335982  Kolkata Knight Riders  Royal Challengers Bangalore   \n",
       "33       335982  Kolkata Knight Riders  Royal Challengers Bangalore   \n",
       "...         ...                    ...                          ...   \n",
       "96065        74     ['Gujarat Titans']          Chennai Super Kings   \n",
       "96066        74     ['Gujarat Titans']          Chennai Super Kings   \n",
       "96067        74     ['Gujarat Titans']          Chennai Super Kings   \n",
       "96068        74     ['Gujarat Titans']          Chennai Super Kings   \n",
       "96069        74     ['Gujarat Titans']          Chennai Super Kings   \n",
       "\n",
       "            city  current_score  ball_left  wickets_left  current_runrate  \\\n",
       "29     Bangalore             59         92            10        12.642857   \n",
       "30     Bangalore             60         91            10        12.413793   \n",
       "31     Bangalore             60         90            10        12.000000   \n",
       "32     Bangalore             61         89            10        11.806452   \n",
       "33     Bangalore             61         88             9        11.437500   \n",
       "...          ...            ...        ...           ...              ...   \n",
       "96065  Ahmedabad            209          4             8        10.810345   \n",
       "96066  Ahmedabad            209          3             7        10.717949   \n",
       "96067  Ahmedabad            210          2             7        10.677966   \n",
       "96068  Ahmedabad            211          1             7        10.638655   \n",
       "96069  Ahmedabad            211          0             6        10.550000   \n",
       "\n",
       "       last_five  runs_x  \n",
       "29          59.0     222  \n",
       "30          59.0     222  \n",
       "31          59.0     222  \n",
       "32          59.0     222  \n",
       "33          59.0     222  \n",
       "...          ...     ...  \n",
       "96065       81.0     211  \n",
       "96066       75.0     211  \n",
       "96067       76.0     211  \n",
       "96068       71.0     211  \n",
       "96069       71.0     211  \n",
       "\n",
       "[75103 rows x 10 columns]"
      ]
     },
     "execution_count": 12,
     "metadata": {},
     "output_type": "execute_result"
    }
   ],
   "source": [
    "final_df"
   ]
  },
  {
   "cell_type": "code",
   "execution_count": 13,
   "id": "2afe8e7e",
   "metadata": {},
   "outputs": [],
   "source": [
    "# final_df.to_csv('IPL finalDataset',index=True)"
   ]
  },
  {
   "cell_type": "code",
   "execution_count": 14,
   "id": "6d05cdb7",
   "metadata": {},
   "outputs": [],
   "source": [
    "final_df.drop(columns=['match_no'],inplace =True)"
   ]
  },
  {
   "cell_type": "code",
   "execution_count": 15,
   "id": "385b6b32",
   "metadata": {},
   "outputs": [
    {
     "data": {
      "text/html": [
       "<div>\n",
       "<style scoped>\n",
       "    .dataframe tbody tr th:only-of-type {\n",
       "        vertical-align: middle;\n",
       "    }\n",
       "\n",
       "    .dataframe tbody tr th {\n",
       "        vertical-align: top;\n",
       "    }\n",
       "\n",
       "    .dataframe thead th {\n",
       "        text-align: right;\n",
       "    }\n",
       "</style>\n",
       "<table border=\"1\" class=\"dataframe\">\n",
       "  <thead>\n",
       "    <tr style=\"text-align: right;\">\n",
       "      <th></th>\n",
       "      <th>batting_team</th>\n",
       "      <th>bowling_team</th>\n",
       "      <th>city</th>\n",
       "      <th>current_score</th>\n",
       "      <th>ball_left</th>\n",
       "      <th>wickets_left</th>\n",
       "      <th>current_runrate</th>\n",
       "      <th>last_five</th>\n",
       "      <th>runs_x</th>\n",
       "    </tr>\n",
       "  </thead>\n",
       "  <tbody>\n",
       "    <tr>\n",
       "      <th>29</th>\n",
       "      <td>Kolkata Knight Riders</td>\n",
       "      <td>Royal Challengers Bangalore</td>\n",
       "      <td>Bangalore</td>\n",
       "      <td>59</td>\n",
       "      <td>92</td>\n",
       "      <td>10</td>\n",
       "      <td>12.642857</td>\n",
       "      <td>59.0</td>\n",
       "      <td>222</td>\n",
       "    </tr>\n",
       "    <tr>\n",
       "      <th>30</th>\n",
       "      <td>Kolkata Knight Riders</td>\n",
       "      <td>Royal Challengers Bangalore</td>\n",
       "      <td>Bangalore</td>\n",
       "      <td>60</td>\n",
       "      <td>91</td>\n",
       "      <td>10</td>\n",
       "      <td>12.413793</td>\n",
       "      <td>59.0</td>\n",
       "      <td>222</td>\n",
       "    </tr>\n",
       "    <tr>\n",
       "      <th>31</th>\n",
       "      <td>Kolkata Knight Riders</td>\n",
       "      <td>Royal Challengers Bangalore</td>\n",
       "      <td>Bangalore</td>\n",
       "      <td>60</td>\n",
       "      <td>90</td>\n",
       "      <td>10</td>\n",
       "      <td>12.000000</td>\n",
       "      <td>59.0</td>\n",
       "      <td>222</td>\n",
       "    </tr>\n",
       "    <tr>\n",
       "      <th>32</th>\n",
       "      <td>Kolkata Knight Riders</td>\n",
       "      <td>Royal Challengers Bangalore</td>\n",
       "      <td>Bangalore</td>\n",
       "      <td>61</td>\n",
       "      <td>89</td>\n",
       "      <td>10</td>\n",
       "      <td>11.806452</td>\n",
       "      <td>59.0</td>\n",
       "      <td>222</td>\n",
       "    </tr>\n",
       "    <tr>\n",
       "      <th>33</th>\n",
       "      <td>Kolkata Knight Riders</td>\n",
       "      <td>Royal Challengers Bangalore</td>\n",
       "      <td>Bangalore</td>\n",
       "      <td>61</td>\n",
       "      <td>88</td>\n",
       "      <td>9</td>\n",
       "      <td>11.437500</td>\n",
       "      <td>59.0</td>\n",
       "      <td>222</td>\n",
       "    </tr>\n",
       "    <tr>\n",
       "      <th>...</th>\n",
       "      <td>...</td>\n",
       "      <td>...</td>\n",
       "      <td>...</td>\n",
       "      <td>...</td>\n",
       "      <td>...</td>\n",
       "      <td>...</td>\n",
       "      <td>...</td>\n",
       "      <td>...</td>\n",
       "      <td>...</td>\n",
       "    </tr>\n",
       "    <tr>\n",
       "      <th>96065</th>\n",
       "      <td>['Gujarat Titans']</td>\n",
       "      <td>Chennai Super Kings</td>\n",
       "      <td>Ahmedabad</td>\n",
       "      <td>209</td>\n",
       "      <td>4</td>\n",
       "      <td>8</td>\n",
       "      <td>10.810345</td>\n",
       "      <td>81.0</td>\n",
       "      <td>211</td>\n",
       "    </tr>\n",
       "    <tr>\n",
       "      <th>96066</th>\n",
       "      <td>['Gujarat Titans']</td>\n",
       "      <td>Chennai Super Kings</td>\n",
       "      <td>Ahmedabad</td>\n",
       "      <td>209</td>\n",
       "      <td>3</td>\n",
       "      <td>7</td>\n",
       "      <td>10.717949</td>\n",
       "      <td>75.0</td>\n",
       "      <td>211</td>\n",
       "    </tr>\n",
       "    <tr>\n",
       "      <th>96067</th>\n",
       "      <td>['Gujarat Titans']</td>\n",
       "      <td>Chennai Super Kings</td>\n",
       "      <td>Ahmedabad</td>\n",
       "      <td>210</td>\n",
       "      <td>2</td>\n",
       "      <td>7</td>\n",
       "      <td>10.677966</td>\n",
       "      <td>76.0</td>\n",
       "      <td>211</td>\n",
       "    </tr>\n",
       "    <tr>\n",
       "      <th>96068</th>\n",
       "      <td>['Gujarat Titans']</td>\n",
       "      <td>Chennai Super Kings</td>\n",
       "      <td>Ahmedabad</td>\n",
       "      <td>211</td>\n",
       "      <td>1</td>\n",
       "      <td>7</td>\n",
       "      <td>10.638655</td>\n",
       "      <td>71.0</td>\n",
       "      <td>211</td>\n",
       "    </tr>\n",
       "    <tr>\n",
       "      <th>96069</th>\n",
       "      <td>['Gujarat Titans']</td>\n",
       "      <td>Chennai Super Kings</td>\n",
       "      <td>Ahmedabad</td>\n",
       "      <td>211</td>\n",
       "      <td>0</td>\n",
       "      <td>6</td>\n",
       "      <td>10.550000</td>\n",
       "      <td>71.0</td>\n",
       "      <td>211</td>\n",
       "    </tr>\n",
       "  </tbody>\n",
       "</table>\n",
       "<p>75103 rows × 9 columns</p>\n",
       "</div>"
      ],
      "text/plain": [
       "                batting_team                 bowling_team       city  \\\n",
       "29     Kolkata Knight Riders  Royal Challengers Bangalore  Bangalore   \n",
       "30     Kolkata Knight Riders  Royal Challengers Bangalore  Bangalore   \n",
       "31     Kolkata Knight Riders  Royal Challengers Bangalore  Bangalore   \n",
       "32     Kolkata Knight Riders  Royal Challengers Bangalore  Bangalore   \n",
       "33     Kolkata Knight Riders  Royal Challengers Bangalore  Bangalore   \n",
       "...                      ...                          ...        ...   \n",
       "96065     ['Gujarat Titans']          Chennai Super Kings  Ahmedabad   \n",
       "96066     ['Gujarat Titans']          Chennai Super Kings  Ahmedabad   \n",
       "96067     ['Gujarat Titans']          Chennai Super Kings  Ahmedabad   \n",
       "96068     ['Gujarat Titans']          Chennai Super Kings  Ahmedabad   \n",
       "96069     ['Gujarat Titans']          Chennai Super Kings  Ahmedabad   \n",
       "\n",
       "       current_score  ball_left  wickets_left  current_runrate  last_five  \\\n",
       "29                59         92            10        12.642857       59.0   \n",
       "30                60         91            10        12.413793       59.0   \n",
       "31                60         90            10        12.000000       59.0   \n",
       "32                61         89            10        11.806452       59.0   \n",
       "33                61         88             9        11.437500       59.0   \n",
       "...              ...        ...           ...              ...        ...   \n",
       "96065            209          4             8        10.810345       81.0   \n",
       "96066            209          3             7        10.717949       75.0   \n",
       "96067            210          2             7        10.677966       76.0   \n",
       "96068            211          1             7        10.638655       71.0   \n",
       "96069            211          0             6        10.550000       71.0   \n",
       "\n",
       "       runs_x  \n",
       "29        222  \n",
       "30        222  \n",
       "31        222  \n",
       "32        222  \n",
       "33        222  \n",
       "...       ...  \n",
       "96065     211  \n",
       "96066     211  \n",
       "96067     211  \n",
       "96068     211  \n",
       "96069     211  \n",
       "\n",
       "[75103 rows x 9 columns]"
      ]
     },
     "execution_count": 15,
     "metadata": {},
     "output_type": "execute_result"
    }
   ],
   "source": [
    "final_df"
   ]
  },
  {
   "cell_type": "code",
   "execution_count": 16,
   "id": "bffa35f9",
   "metadata": {},
   "outputs": [
    {
     "data": {
      "text/plain": [
       "array(['Kolkata Knight Riders', 'Chennai Super Kings', 'Rajasthan Royals',\n",
       "       'Mumbai Indians', 'Deccan Chargers', 'Kings XI Punjab',\n",
       "       'Royal Challengers Bangalore', 'Delhi Daredevils',\n",
       "       'Kochi Tuskers Kerala', 'Sunrisers Hyderabad', 'Delhi Capitals',\n",
       "       'Punjab Kings', 'Lucknow Super Giants', 'Gujarat Titans',\n",
       "       \"['Chennai Super Kings']\", \"['Punjab Kings']\",\n",
       "       \"['Lucknow Super Giants']\", \"['Rajasthan Royals']\",\n",
       "       \"['Mumbai Indians']\", \"['Delhi Capitals']\",\n",
       "       \"['Kolkata Knight Riders']\", \"['Royal Challengers Bangalore']\",\n",
       "       \"['Sunrisers Hyderabad']\", \"['Gujarat Titans']\"], dtype=object)"
      ]
     },
     "execution_count": 16,
     "metadata": {},
     "output_type": "execute_result"
    }
   ],
   "source": [
    "final_df['batting_team'].unique()"
   ]
  },
  {
   "cell_type": "code",
   "execution_count": 17,
   "id": "fd499009",
   "metadata": {},
   "outputs": [],
   "source": [
    "final_df.replace(\"['Chennai Super Kings']\", 'Chennai Super Kings', inplace=True)\n"
   ]
  },
  {
   "cell_type": "code",
   "execution_count": 18,
   "id": "fde6e292",
   "metadata": {},
   "outputs": [],
   "source": [
    "final_df.replace(\"['Punjab Kings']\",'Punjab Kings', inplace=True)\n"
   ]
  },
  {
   "cell_type": "code",
   "execution_count": 19,
   "id": "c96e2dc2",
   "metadata": {},
   "outputs": [],
   "source": [
    "final_df.replace(\"['Lucknow Super Giants']\",'Lucknow Super Giants', inplace=True)"
   ]
  },
  {
   "cell_type": "code",
   "execution_count": 20,
   "id": "1e1db50f",
   "metadata": {},
   "outputs": [],
   "source": [
    "final_df.replace( \"['Rajasthan Royals']\",'Rajasthan Royals', inplace=True)"
   ]
  },
  {
   "cell_type": "code",
   "execution_count": 21,
   "id": "640e01bc",
   "metadata": {},
   "outputs": [],
   "source": [
    "final_df.replace( \"['Mumbai Indians']\",'Mumbai Indians', inplace=True)"
   ]
  },
  {
   "cell_type": "code",
   "execution_count": 22,
   "id": "c499d745",
   "metadata": {},
   "outputs": [],
   "source": [
    "final_df.replace( \"['Delhi Capitals']\",'Delhi Capitals', inplace=True)"
   ]
  },
  {
   "cell_type": "code",
   "execution_count": 23,
   "id": "d068b0e4",
   "metadata": {},
   "outputs": [],
   "source": [
    "final_df.replace( 'Delhi Daredevils','Delhi Capitals', inplace=True)"
   ]
  },
  {
   "cell_type": "code",
   "execution_count": 24,
   "id": "53fffc93",
   "metadata": {},
   "outputs": [],
   "source": [
    "final_df.replace(  \"['Kolkata Knight Riders']\",'Kolkata Knight Riders', inplace=True)"
   ]
  },
  {
   "cell_type": "code",
   "execution_count": 25,
   "id": "82bad383",
   "metadata": {},
   "outputs": [],
   "source": [
    "final_df.replace(\"['Royal Challengers Bangalore']\",'Royal Challengers Bangalore', inplace=True)"
   ]
  },
  {
   "cell_type": "code",
   "execution_count": 26,
   "id": "52d2fd78",
   "metadata": {},
   "outputs": [],
   "source": [
    "final_df.replace(\"['Sunrisers Hyderabad']\",'Sunrisers Hyderabad', inplace=True)"
   ]
  },
  {
   "cell_type": "code",
   "execution_count": 27,
   "id": "05c28edc",
   "metadata": {},
   "outputs": [],
   "source": [
    "final_df.replace('Kochi Tuskers Kerala','Sunrisers Hyderabad', inplace=True)"
   ]
  },
  {
   "cell_type": "code",
   "execution_count": 28,
   "id": "4b0d326b",
   "metadata": {},
   "outputs": [],
   "source": [
    "final_df.replace(\"['Gujarat Titans']\",'Gujarat Titans', inplace=True)"
   ]
  },
  {
   "cell_type": "code",
   "execution_count": 29,
   "id": "d0fe9fce",
   "metadata": {},
   "outputs": [],
   "source": [
    "final_df = final_df.sample(final_df.shape[0])"
   ]
  },
  {
   "cell_type": "code",
   "execution_count": 30,
   "id": "ddb9af8a",
   "metadata": {},
   "outputs": [
    {
     "data": {
      "text/html": [
       "<div>\n",
       "<style scoped>\n",
       "    .dataframe tbody tr th:only-of-type {\n",
       "        vertical-align: middle;\n",
       "    }\n",
       "\n",
       "    .dataframe tbody tr th {\n",
       "        vertical-align: top;\n",
       "    }\n",
       "\n",
       "    .dataframe thead th {\n",
       "        text-align: right;\n",
       "    }\n",
       "</style>\n",
       "<table border=\"1\" class=\"dataframe\">\n",
       "  <thead>\n",
       "    <tr style=\"text-align: right;\">\n",
       "      <th></th>\n",
       "      <th>batting_team</th>\n",
       "      <th>bowling_team</th>\n",
       "      <th>city</th>\n",
       "      <th>current_score</th>\n",
       "      <th>ball_left</th>\n",
       "      <th>wickets_left</th>\n",
       "      <th>current_runrate</th>\n",
       "      <th>last_five</th>\n",
       "      <th>runs_x</th>\n",
       "    </tr>\n",
       "  </thead>\n",
       "  <tbody>\n",
       "    <tr>\n",
       "      <th>31223</th>\n",
       "      <td>Sunrisers Hyderabad</td>\n",
       "      <td>Rajasthan Royals</td>\n",
       "      <td>Jaipur</td>\n",
       "      <td>93</td>\n",
       "      <td>28</td>\n",
       "      <td>3</td>\n",
       "      <td>6.065217</td>\n",
       "      <td>25.0</td>\n",
       "      <td>144</td>\n",
       "    </tr>\n",
       "    <tr>\n",
       "      <th>92411</th>\n",
       "      <td>Kolkata Knight Riders</td>\n",
       "      <td>Royal Challengers Bangalore</td>\n",
       "      <td>Bengaluru</td>\n",
       "      <td>161</td>\n",
       "      <td>19</td>\n",
       "      <td>8</td>\n",
       "      <td>9.564356</td>\n",
       "      <td>55.0</td>\n",
       "      <td>200</td>\n",
       "    </tr>\n",
       "    <tr>\n",
       "      <th>78049</th>\n",
       "      <td>Rajasthan Royals</td>\n",
       "      <td>Royal Challengers Bangalore</td>\n",
       "      <td>Mumbai</td>\n",
       "      <td>31</td>\n",
       "      <td>88</td>\n",
       "      <td>7</td>\n",
       "      <td>5.812500</td>\n",
       "      <td>31.0</td>\n",
       "      <td>177</td>\n",
       "    </tr>\n",
       "    <tr>\n",
       "      <th>84278</th>\n",
       "      <td>Lucknow Super Giants</td>\n",
       "      <td>Mumbai Indians</td>\n",
       "      <td>Mumbai</td>\n",
       "      <td>56</td>\n",
       "      <td>65</td>\n",
       "      <td>9</td>\n",
       "      <td>6.109091</td>\n",
       "      <td>29.0</td>\n",
       "      <td>168</td>\n",
       "    </tr>\n",
       "    <tr>\n",
       "      <th>61736</th>\n",
       "      <td>Mumbai Indians</td>\n",
       "      <td>Kolkata Knight Riders</td>\n",
       "      <td>Kolkata</td>\n",
       "      <td>177</td>\n",
       "      <td>13</td>\n",
       "      <td>7</td>\n",
       "      <td>9.925234</td>\n",
       "      <td>65.0</td>\n",
       "      <td>210</td>\n",
       "    </tr>\n",
       "    <tr>\n",
       "      <th>...</th>\n",
       "      <td>...</td>\n",
       "      <td>...</td>\n",
       "      <td>...</td>\n",
       "      <td>...</td>\n",
       "      <td>...</td>\n",
       "      <td>...</td>\n",
       "      <td>...</td>\n",
       "      <td>...</td>\n",
       "      <td>...</td>\n",
       "    </tr>\n",
       "    <tr>\n",
       "      <th>84024</th>\n",
       "      <td>Gujarat Titans</td>\n",
       "      <td>Kolkata Knight Riders</td>\n",
       "      <td>Navi Mumbai</td>\n",
       "      <td>44</td>\n",
       "      <td>89</td>\n",
       "      <td>9</td>\n",
       "      <td>8.516129</td>\n",
       "      <td>41.0</td>\n",
       "      <td>156</td>\n",
       "    </tr>\n",
       "    <tr>\n",
       "      <th>42041</th>\n",
       "      <td>Chennai Super Kings</td>\n",
       "      <td>Delhi Capitals</td>\n",
       "      <td>Chennai</td>\n",
       "      <td>135</td>\n",
       "      <td>5</td>\n",
       "      <td>4</td>\n",
       "      <td>7.043478</td>\n",
       "      <td>23.0</td>\n",
       "      <td>150</td>\n",
       "    </tr>\n",
       "    <tr>\n",
       "      <th>31597</th>\n",
       "      <td>Royal Challengers Bangalore</td>\n",
       "      <td>Rajasthan Royals</td>\n",
       "      <td>Jaipur</td>\n",
       "      <td>124</td>\n",
       "      <td>23</td>\n",
       "      <td>6</td>\n",
       "      <td>7.670103</td>\n",
       "      <td>33.0</td>\n",
       "      <td>171</td>\n",
       "    </tr>\n",
       "    <tr>\n",
       "      <th>19632</th>\n",
       "      <td>Kings XI Punjab</td>\n",
       "      <td>Royal Challengers Bangalore</td>\n",
       "      <td>Dharamsala</td>\n",
       "      <td>120</td>\n",
       "      <td>51</td>\n",
       "      <td>9</td>\n",
       "      <td>10.434783</td>\n",
       "      <td>79.0</td>\n",
       "      <td>232</td>\n",
       "    </tr>\n",
       "    <tr>\n",
       "      <th>3406</th>\n",
       "      <td>Delhi Capitals</td>\n",
       "      <td>Chennai Super Kings</td>\n",
       "      <td>Delhi</td>\n",
       "      <td>119</td>\n",
       "      <td>35</td>\n",
       "      <td>8</td>\n",
       "      <td>8.400000</td>\n",
       "      <td>38.0</td>\n",
       "      <td>187</td>\n",
       "    </tr>\n",
       "  </tbody>\n",
       "</table>\n",
       "<p>75103 rows × 9 columns</p>\n",
       "</div>"
      ],
      "text/plain": [
       "                      batting_team                 bowling_team         city  \\\n",
       "31223          Sunrisers Hyderabad             Rajasthan Royals       Jaipur   \n",
       "92411        Kolkata Knight Riders  Royal Challengers Bangalore    Bengaluru   \n",
       "78049             Rajasthan Royals  Royal Challengers Bangalore       Mumbai   \n",
       "84278         Lucknow Super Giants               Mumbai Indians       Mumbai   \n",
       "61736               Mumbai Indians        Kolkata Knight Riders      Kolkata   \n",
       "...                            ...                          ...          ...   \n",
       "84024               Gujarat Titans        Kolkata Knight Riders  Navi Mumbai   \n",
       "42041          Chennai Super Kings               Delhi Capitals      Chennai   \n",
       "31597  Royal Challengers Bangalore             Rajasthan Royals       Jaipur   \n",
       "19632              Kings XI Punjab  Royal Challengers Bangalore   Dharamsala   \n",
       "3406                Delhi Capitals          Chennai Super Kings        Delhi   \n",
       "\n",
       "       current_score  ball_left  wickets_left  current_runrate  last_five  \\\n",
       "31223             93         28             3         6.065217       25.0   \n",
       "92411            161         19             8         9.564356       55.0   \n",
       "78049             31         88             7         5.812500       31.0   \n",
       "84278             56         65             9         6.109091       29.0   \n",
       "61736            177         13             7         9.925234       65.0   \n",
       "...              ...        ...           ...              ...        ...   \n",
       "84024             44         89             9         8.516129       41.0   \n",
       "42041            135          5             4         7.043478       23.0   \n",
       "31597            124         23             6         7.670103       33.0   \n",
       "19632            120         51             9        10.434783       79.0   \n",
       "3406             119         35             8         8.400000       38.0   \n",
       "\n",
       "       runs_x  \n",
       "31223     144  \n",
       "92411     200  \n",
       "78049     177  \n",
       "84278     168  \n",
       "61736     210  \n",
       "...       ...  \n",
       "84024     156  \n",
       "42041     150  \n",
       "31597     171  \n",
       "19632     232  \n",
       "3406      187  \n",
       "\n",
       "[75103 rows x 9 columns]"
      ]
     },
     "execution_count": 30,
     "metadata": {},
     "output_type": "execute_result"
    }
   ],
   "source": [
    "final_df"
   ]
  },
  {
   "cell_type": "code",
   "execution_count": 31,
   "id": "61680b53",
   "metadata": {},
   "outputs": [
    {
     "data": {
      "text/plain": [
       "array(['Rajasthan Royals', 'Royal Challengers Bangalore',\n",
       "       'Mumbai Indians', 'Kolkata Knight Riders', 'Sunrisers Hyderabad',\n",
       "       'Delhi Capitals', 'Punjab Kings', 'Chennai Super Kings',\n",
       "       'Lucknow Super Giants', 'Gujarat Titans'], dtype=object)"
      ]
     },
     "execution_count": 31,
     "metadata": {},
     "output_type": "execute_result"
    }
   ],
   "source": [
    "final_df['bowling_team'].unique()"
   ]
  },
  {
   "cell_type": "code",
   "execution_count": 32,
   "id": "5463c7a4",
   "metadata": {},
   "outputs": [
    {
     "data": {
      "text/plain": [
       "array(['Jaipur', 'Bengaluru', 'Mumbai', 'Kolkata', 'Hyderabad',\n",
       "       'Chandigarh', 'Chennai', 'Ahmedabad', 'Delhi', 'Bangalore',\n",
       "       'Stadium', 'Raipur', 'Lucknow', 'Dharamsala', 'Indore', 'Pune',\n",
       "       'Cuttack', 'Navi Mumbai', 'Visakhapatnam', 'Ranchi', 'Guwahati'],\n",
       "      dtype=object)"
      ]
     },
     "execution_count": 32,
     "metadata": {},
     "output_type": "execute_result"
    }
   ],
   "source": [
    "final_df['city'].unique()"
   ]
  },
  {
   "cell_type": "code",
   "execution_count": 33,
   "id": "a6a3d2ba",
   "metadata": {},
   "outputs": [],
   "source": [
    "final_df = final_df.drop(final_df[final_df['city'] == 'Navi Mumbai'].index)\n",
    "final_df = final_df.drop(final_df[final_df['city'] == 'Visakhapatnam'].index)"
   ]
  },
  {
   "cell_type": "code",
   "execution_count": 34,
   "id": "83a31797",
   "metadata": {},
   "outputs": [],
   "source": [
    "final_df = final_df.drop(final_df[final_df['city'] == 'Indore'].index)"
   ]
  },
  {
   "cell_type": "code",
   "execution_count": 35,
   "id": "36d6b98a",
   "metadata": {},
   "outputs": [],
   "source": [
    "final_df = final_df.groupby('city').filter(lambda x: len(x) >= 562)"
   ]
  },
  {
   "cell_type": "code",
   "execution_count": 36,
   "id": "500936bb",
   "metadata": {},
   "outputs": [
    {
     "data": {
      "text/plain": [
       "Mumbai        14384\n",
       "Kolkata        7561\n",
       "Delhi          7361\n",
       "Chennai        6944\n",
       "Hyderabad      6031\n",
       "Bangalore      5222\n",
       "Chandigarh     5121\n",
       "Stadium        4864\n",
       "Jaipur         4649\n",
       "Ahmedabad      2650\n",
       "Pune           2299\n",
       "Bengaluru      2002\n",
       "Dharamsala     1047\n",
       "Lucknow         656\n",
       "Name: city, dtype: int64"
      ]
     },
     "execution_count": 36,
     "metadata": {},
     "output_type": "execute_result"
    }
   ],
   "source": [
    "final_df['city'].value_counts()"
   ]
  },
  {
   "cell_type": "code",
   "execution_count": 37,
   "id": "c0ebe6ef",
   "metadata": {},
   "outputs": [],
   "source": [
    "final_df = final_df.sample(final_df.shape[0])"
   ]
  },
  {
   "cell_type": "code",
   "execution_count": 38,
   "id": "3f12ed86",
   "metadata": {},
   "outputs": [
    {
     "data": {
      "text/html": [
       "<div>\n",
       "<style scoped>\n",
       "    .dataframe tbody tr th:only-of-type {\n",
       "        vertical-align: middle;\n",
       "    }\n",
       "\n",
       "    .dataframe tbody tr th {\n",
       "        vertical-align: top;\n",
       "    }\n",
       "\n",
       "    .dataframe thead th {\n",
       "        text-align: right;\n",
       "    }\n",
       "</style>\n",
       "<table border=\"1\" class=\"dataframe\">\n",
       "  <thead>\n",
       "    <tr style=\"text-align: right;\">\n",
       "      <th></th>\n",
       "      <th>batting_team</th>\n",
       "      <th>bowling_team</th>\n",
       "      <th>city</th>\n",
       "      <th>current_score</th>\n",
       "      <th>ball_left</th>\n",
       "      <th>wickets_left</th>\n",
       "      <th>current_runrate</th>\n",
       "      <th>last_five</th>\n",
       "      <th>runs_x</th>\n",
       "    </tr>\n",
       "  </thead>\n",
       "  <tbody>\n",
       "    <tr>\n",
       "      <th>32585</th>\n",
       "      <td>Mumbai Indians</td>\n",
       "      <td>Chennai Super Kings</td>\n",
       "      <td>Mumbai</td>\n",
       "      <td>90</td>\n",
       "      <td>26</td>\n",
       "      <td>5</td>\n",
       "      <td>5.744681</td>\n",
       "      <td>40.0</td>\n",
       "      <td>139</td>\n",
       "    </tr>\n",
       "    <tr>\n",
       "      <th>54189</th>\n",
       "      <td>Sunrisers Hyderabad</td>\n",
       "      <td>Punjab Kings</td>\n",
       "      <td>Hyderabad</td>\n",
       "      <td>50</td>\n",
       "      <td>65</td>\n",
       "      <td>8</td>\n",
       "      <td>5.454545</td>\n",
       "      <td>28.0</td>\n",
       "      <td>159</td>\n",
       "    </tr>\n",
       "    <tr>\n",
       "      <th>17465</th>\n",
       "      <td>Mumbai Indians</td>\n",
       "      <td>Punjab Kings</td>\n",
       "      <td>Mumbai</td>\n",
       "      <td>110</td>\n",
       "      <td>32</td>\n",
       "      <td>8</td>\n",
       "      <td>7.500000</td>\n",
       "      <td>45.0</td>\n",
       "      <td>159</td>\n",
       "    </tr>\n",
       "    <tr>\n",
       "      <th>32710</th>\n",
       "      <td>Sunrisers Hyderabad</td>\n",
       "      <td>Royal Challengers Bangalore</td>\n",
       "      <td>Bangalore</td>\n",
       "      <td>122</td>\n",
       "      <td>23</td>\n",
       "      <td>7</td>\n",
       "      <td>7.546392</td>\n",
       "      <td>58.0</td>\n",
       "      <td>161</td>\n",
       "    </tr>\n",
       "    <tr>\n",
       "      <th>25752</th>\n",
       "      <td>Rajasthan Royals</td>\n",
       "      <td>Chennai Super Kings</td>\n",
       "      <td>Jaipur</td>\n",
       "      <td>65</td>\n",
       "      <td>58</td>\n",
       "      <td>6</td>\n",
       "      <td>6.290323</td>\n",
       "      <td>37.0</td>\n",
       "      <td>126</td>\n",
       "    </tr>\n",
       "    <tr>\n",
       "      <th>...</th>\n",
       "      <td>...</td>\n",
       "      <td>...</td>\n",
       "      <td>...</td>\n",
       "      <td>...</td>\n",
       "      <td>...</td>\n",
       "      <td>...</td>\n",
       "      <td>...</td>\n",
       "      <td>...</td>\n",
       "      <td>...</td>\n",
       "    </tr>\n",
       "    <tr>\n",
       "      <th>91819</th>\n",
       "      <td>Gujarat Titans</td>\n",
       "      <td>Lucknow Super Giants</td>\n",
       "      <td>Lucknow</td>\n",
       "      <td>89</td>\n",
       "      <td>37</td>\n",
       "      <td>7</td>\n",
       "      <td>6.433735</td>\n",
       "      <td>30.0</td>\n",
       "      <td>135</td>\n",
       "    </tr>\n",
       "    <tr>\n",
       "      <th>50383</th>\n",
       "      <td>Mumbai Indians</td>\n",
       "      <td>Punjab Kings</td>\n",
       "      <td>Chandigarh</td>\n",
       "      <td>79</td>\n",
       "      <td>57</td>\n",
       "      <td>9</td>\n",
       "      <td>7.523810</td>\n",
       "      <td>44.0</td>\n",
       "      <td>189</td>\n",
       "    </tr>\n",
       "    <tr>\n",
       "      <th>69</th>\n",
       "      <td>Kolkata Knight Riders</td>\n",
       "      <td>Royal Challengers Bangalore</td>\n",
       "      <td>Bangalore</td>\n",
       "      <td>108</td>\n",
       "      <td>52</td>\n",
       "      <td>9</td>\n",
       "      <td>9.529412</td>\n",
       "      <td>45.0</td>\n",
       "      <td>222</td>\n",
       "    </tr>\n",
       "    <tr>\n",
       "      <th>42770</th>\n",
       "      <td>Royal Challengers Bangalore</td>\n",
       "      <td>Sunrisers Hyderabad</td>\n",
       "      <td>Bangalore</td>\n",
       "      <td>114</td>\n",
       "      <td>30</td>\n",
       "      <td>6</td>\n",
       "      <td>7.600000</td>\n",
       "      <td>37.0</td>\n",
       "      <td>166</td>\n",
       "    </tr>\n",
       "    <tr>\n",
       "      <th>73350</th>\n",
       "      <td>Delhi Capitals</td>\n",
       "      <td>Royal Challengers Bangalore</td>\n",
       "      <td>Stadium</td>\n",
       "      <td>87</td>\n",
       "      <td>57</td>\n",
       "      <td>8</td>\n",
       "      <td>8.285714</td>\n",
       "      <td>30.0</td>\n",
       "      <td>196</td>\n",
       "    </tr>\n",
       "  </tbody>\n",
       "</table>\n",
       "<p>70791 rows × 9 columns</p>\n",
       "</div>"
      ],
      "text/plain": [
       "                      batting_team                 bowling_team        city  \\\n",
       "32585               Mumbai Indians          Chennai Super Kings      Mumbai   \n",
       "54189          Sunrisers Hyderabad                 Punjab Kings   Hyderabad   \n",
       "17465               Mumbai Indians                 Punjab Kings      Mumbai   \n",
       "32710          Sunrisers Hyderabad  Royal Challengers Bangalore   Bangalore   \n",
       "25752             Rajasthan Royals          Chennai Super Kings      Jaipur   \n",
       "...                            ...                          ...         ...   \n",
       "91819               Gujarat Titans         Lucknow Super Giants     Lucknow   \n",
       "50383               Mumbai Indians                 Punjab Kings  Chandigarh   \n",
       "69           Kolkata Knight Riders  Royal Challengers Bangalore   Bangalore   \n",
       "42770  Royal Challengers Bangalore          Sunrisers Hyderabad   Bangalore   \n",
       "73350               Delhi Capitals  Royal Challengers Bangalore     Stadium   \n",
       "\n",
       "       current_score  ball_left  wickets_left  current_runrate  last_five  \\\n",
       "32585             90         26             5         5.744681       40.0   \n",
       "54189             50         65             8         5.454545       28.0   \n",
       "17465            110         32             8         7.500000       45.0   \n",
       "32710            122         23             7         7.546392       58.0   \n",
       "25752             65         58             6         6.290323       37.0   \n",
       "...              ...        ...           ...              ...        ...   \n",
       "91819             89         37             7         6.433735       30.0   \n",
       "50383             79         57             9         7.523810       44.0   \n",
       "69               108         52             9         9.529412       45.0   \n",
       "42770            114         30             6         7.600000       37.0   \n",
       "73350             87         57             8         8.285714       30.0   \n",
       "\n",
       "       runs_x  \n",
       "32585     139  \n",
       "54189     159  \n",
       "17465     159  \n",
       "32710     161  \n",
       "25752     126  \n",
       "...       ...  \n",
       "91819     135  \n",
       "50383     189  \n",
       "69        222  \n",
       "42770     166  \n",
       "73350     196  \n",
       "\n",
       "[70791 rows x 9 columns]"
      ]
     },
     "execution_count": 38,
     "metadata": {},
     "output_type": "execute_result"
    }
   ],
   "source": [
    "final_df"
   ]
  },
  {
   "cell_type": "markdown",
   "id": "0d649ff8",
   "metadata": {},
   "source": [
    "# Splitting the data into trainning data and testing data"
   ]
  },
  {
   "cell_type": "code",
   "execution_count": 39,
   "id": "1e17a787",
   "metadata": {},
   "outputs": [],
   "source": [
    "# Splitting the model into training and testing\n",
    "X = final_df.drop(columns=['runs_x'])\n",
    "y = final_df['runs_x']\n",
    "from sklearn.model_selection import train_test_split\n",
    "X_train,X_test,y_train,y_test = train_test_split(X,y,test_size=0.2,random_state=1)"
   ]
  },
  {
   "cell_type": "markdown",
   "id": "47ba8c70",
   "metadata": {},
   "source": [
    "# Training the model"
   ]
  },
  {
   "cell_type": "code",
   "execution_count": 40,
   "id": "8a93ba38",
   "metadata": {},
   "outputs": [],
   "source": [
    "from sklearn.compose import ColumnTransformer\n",
    "from xgboost import XGBRegressor\n",
    "from sklearn.ensemble import RandomForestClassifier\n",
    "from sklearn.preprocessing import StandardScaler,OneHotEncoder\n",
    "from sklearn.metrics import r2_score,mean_absolute_error\n",
    "from sklearn.pipeline import Pipeline"
   ]
  },
  {
   "cell_type": "code",
   "execution_count": 41,
   "id": "08841361",
   "metadata": {},
   "outputs": [],
   "source": [
    "trf = ColumnTransformer([\n",
    "    ('trf1',OneHotEncoder(sparse=False,drop='first'),['batting_team','bowling_team','city'])\n",
    "]\n",
    ",remainder='passthrough')"
   ]
  },
  {
   "cell_type": "code",
   "execution_count": 42,
   "id": "2414d13a",
   "metadata": {},
   "outputs": [],
   "source": [
    "from sklearn.linear_model import LinearRegression\n",
    "pipe_linear_regression = Pipeline(steps=[\n",
    "    ('step',trf),\n",
    "    ('scaling', StandardScaler()), \n",
    "    ('linear_regression', LinearRegression())\n",
    "    ])"
   ]
  },
  {
   "cell_type": "code",
   "execution_count": 43,
   "id": "6f42e7fb",
   "metadata": {},
   "outputs": [
    {
     "name": "stderr",
     "output_type": "stream",
     "text": [
      "C:\\Users\\ADMIN\\AppData\\Roaming\\Python\\Python39\\site-packages\\sklearn\\preprocessing\\_encoders.py:972: FutureWarning: `sparse` was renamed to `sparse_output` in version 1.2 and will be removed in 1.4. `sparse_output` is ignored unless you leave `sparse` to its default value.\n",
      "  warnings.warn(\n"
     ]
    }
   ],
   "source": [
    "pipe_linear_regression.fit(X_train, y_train)\n",
    "y_pred = pipe_linear_regression.predict(X_test)"
   ]
  },
  {
   "cell_type": "code",
   "execution_count": 44,
   "id": "61ec2a45",
   "metadata": {},
   "outputs": [
    {
     "name": "stdout",
     "output_type": "stream",
     "text": [
      "0.6419584788082524\n",
      "13.430395514296633\n"
     ]
    }
   ],
   "source": [
    "print(r2_score(y_test,y_pred))\n",
    "print(mean_absolute_error(y_test,y_pred))"
   ]
  },
  {
   "cell_type": "markdown",
   "id": "eee821aa",
   "metadata": {},
   "source": [
    "### Lasso Regression"
   ]
  },
  {
   "cell_type": "code",
   "execution_count": 45,
   "id": "17d0e6a7",
   "metadata": {},
   "outputs": [],
   "source": [
    "from sklearn.linear_model import Lasso\n",
    "\n",
    "pipe_lasso_regression = Pipeline(steps=[\n",
    "    ('step',trf),\n",
    "    ('scaling', StandardScaler()), \n",
    "    ('lasso_regression', Lasso(alpha=1.0))\n",
    "    ])"
   ]
  },
  {
   "cell_type": "code",
   "execution_count": 46,
   "id": "bfd3d509",
   "metadata": {},
   "outputs": [
    {
     "name": "stderr",
     "output_type": "stream",
     "text": [
      "C:\\Users\\ADMIN\\AppData\\Roaming\\Python\\Python39\\site-packages\\sklearn\\preprocessing\\_encoders.py:972: FutureWarning: `sparse` was renamed to `sparse_output` in version 1.2 and will be removed in 1.4. `sparse_output` is ignored unless you leave `sparse` to its default value.\n",
      "  warnings.warn(\n"
     ]
    },
    {
     "name": "stdout",
     "output_type": "stream",
     "text": [
      "0.6098548762185585\n",
      "14.033585274996963\n"
     ]
    }
   ],
   "source": [
    "pipe_lasso_regression.fit(X_train, y_train)\n",
    "y_pred = pipe_lasso_regression.predict(X_test)\n",
    "print(r2_score(y_test,y_pred))\n",
    "print(mean_absolute_error(y_test,y_pred))"
   ]
  },
  {
   "cell_type": "markdown",
   "id": "12208961",
   "metadata": {},
   "source": [
    "### Elastic Regression"
   ]
  },
  {
   "cell_type": "code",
   "execution_count": 47,
   "id": "4578e328",
   "metadata": {},
   "outputs": [
    {
     "name": "stderr",
     "output_type": "stream",
     "text": [
      "C:\\Users\\ADMIN\\AppData\\Roaming\\Python\\Python39\\site-packages\\sklearn\\preprocessing\\_encoders.py:972: FutureWarning: `sparse` was renamed to `sparse_output` in version 1.2 and will be removed in 1.4. `sparse_output` is ignored unless you leave `sparse` to its default value.\n",
      "  warnings.warn(\n"
     ]
    },
    {
     "name": "stdout",
     "output_type": "stream",
     "text": [
      "0.5694699270855423\n",
      "15.084844086321468\n"
     ]
    }
   ],
   "source": [
    "from sklearn.linear_model import ElasticNet\n",
    "\n",
    "pipe_elastic_net_regression = Pipeline(steps=[\n",
    "    ('step',trf),\n",
    "    ('scaling', StandardScaler()),  # StandardScaler is optional but can be beneficial for elastic net regression\n",
    "    ('elastic_net_regression', ElasticNet(alpha=1.0, l1_ratio=0.5))\n",
    "])\n",
    "\n",
    "pipe_elastic_net_regression.fit(X_train, y_train)\n",
    "y_pred = pipe_elastic_net_regression.predict(X_test)\n",
    "print(r2_score(y_test,y_pred))\n",
    "print(mean_absolute_error(y_test,y_pred))"
   ]
  },
  {
   "cell_type": "markdown",
   "id": "3c15c954",
   "metadata": {},
   "source": [
    "### Random Forest Regression:"
   ]
  },
  {
   "cell_type": "code",
   "execution_count": 48,
   "id": "f16f262e",
   "metadata": {},
   "outputs": [
    {
     "name": "stderr",
     "output_type": "stream",
     "text": [
      "C:\\Users\\ADMIN\\AppData\\Roaming\\Python\\Python39\\site-packages\\sklearn\\preprocessing\\_encoders.py:972: FutureWarning: `sparse` was renamed to `sparse_output` in version 1.2 and will be removed in 1.4. `sparse_output` is ignored unless you leave `sparse` to its default value.\n",
      "  warnings.warn(\n"
     ]
    },
    {
     "name": "stdout",
     "output_type": "stream",
     "text": [
      "0.9517657188382439\n",
      "3.437118675989359\n"
     ]
    }
   ],
   "source": [
    "from sklearn.ensemble import RandomForestRegressor\n",
    "\n",
    "pipe_random_forest_regression = Pipeline(steps=[\n",
    "    ('step',trf),\n",
    "    ('random_forest_regression', RandomForestRegressor(n_estimators=100, random_state=1))\n",
    "])\n",
    "pipe_random_forest_regression.fit(X_train, y_train)\n",
    "y_pred = pipe_random_forest_regression.predict(X_test)\n",
    "print(r2_score(y_test,y_pred))\n",
    "print(mean_absolute_error(y_test,y_pred))"
   ]
  },
  {
   "cell_type": "markdown",
   "id": "300e0c12",
   "metadata": {},
   "source": [
    "### Support Vector Regression (SVR):"
   ]
  },
  {
   "cell_type": "code",
   "execution_count": 49,
   "id": "85e92fb6",
   "metadata": {},
   "outputs": [
    {
     "name": "stderr",
     "output_type": "stream",
     "text": [
      "C:\\Users\\ADMIN\\AppData\\Roaming\\Python\\Python39\\site-packages\\sklearn\\preprocessing\\_encoders.py:972: FutureWarning: `sparse` was renamed to `sparse_output` in version 1.2 and will be removed in 1.4. `sparse_output` is ignored unless you leave `sparse` to its default value.\n",
      "  warnings.warn(\n"
     ]
    },
    {
     "name": "stdout",
     "output_type": "stream",
     "text": [
      "0.6363872485499196\n",
      "13.189834335664328\n"
     ]
    }
   ],
   "source": [
    "from sklearn.svm import SVR\n",
    "\n",
    "pipe_svr_regression = Pipeline(steps=[\n",
    "    ('step',trf),\n",
    "    ('scaling', StandardScaler()),  # StandardScaler is usually beneficial for SVR\n",
    "    ('svr_regression', SVR(kernel='linear'))\n",
    "])\n",
    "\n",
    "pipe_svr_regression.fit(X_train, y_train)\n",
    "y_pred = pipe_svr_regression.predict(X_test)\n",
    "print(r2_score(y_test,y_pred))\n",
    "print(mean_absolute_error(y_test,y_pred))"
   ]
  },
  {
   "cell_type": "code",
   "execution_count": 50,
   "id": "6c53fcc6",
   "metadata": {},
   "outputs": [],
   "source": [
    "final = Pipeline(steps=[\n",
    "    ('step1',trf),\n",
    "    ('step2',StandardScaler()),\n",
    "    ('step3',XGBRegressor(n_estimators=1000,learning_rate=0.2,random_state=1,max_depth=12))   \n",
    "    \n",
    "])"
   ]
  },
  {
   "cell_type": "code",
   "execution_count": 51,
   "id": "039614f6",
   "metadata": {},
   "outputs": [
    {
     "name": "stderr",
     "output_type": "stream",
     "text": [
      "C:\\Users\\ADMIN\\AppData\\Roaming\\Python\\Python39\\site-packages\\sklearn\\preprocessing\\_encoders.py:972: FutureWarning: `sparse` was renamed to `sparse_output` in version 1.2 and will be removed in 1.4. `sparse_output` is ignored unless you leave `sparse` to its default value.\n",
      "  warnings.warn(\n"
     ]
    },
    {
     "name": "stdout",
     "output_type": "stream",
     "text": [
      "0.9659025489043381\n",
      "2.8440281291223193\n"
     ]
    }
   ],
   "source": [
    "final.fit(X_train,y_train)\n",
    "y_pred = final.predict(X_test)\n",
    "print(r2_score(y_test,y_pred))\n",
    "print(mean_absolute_error(y_test,y_pred))"
   ]
  },
  {
   "cell_type": "code",
   "execution_count": 52,
   "id": "99e4e6bd",
   "metadata": {},
   "outputs": [],
   "source": [
    "import pickle"
   ]
  },
  {
   "cell_type": "code",
   "execution_count": 54,
   "id": "fdda4ada",
   "metadata": {},
   "outputs": [],
   "source": [
    "pickle.dump(final,open('final1.pkl','wb'))"
   ]
  }
 ],
 "metadata": {
  "kernelspec": {
   "display_name": "Python 3 (ipykernel)",
   "language": "python",
   "name": "python3"
  },
  "language_info": {
   "codemirror_mode": {
    "name": "ipython",
    "version": 3
   },
   "file_extension": ".py",
   "mimetype": "text/x-python",
   "name": "python",
   "nbconvert_exporter": "python",
   "pygments_lexer": "ipython3",
   "version": "3.9.12"
  }
 },
 "nbformat": 4,
 "nbformat_minor": 5
}
